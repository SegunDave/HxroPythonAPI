{
  "cells": [
    {
      "cell_type": "markdown",
      "metadata": {
        "id": "view-in-github",
        "colab_type": "text"
      },
      "source": [
        "<a href=\"https://colab.research.google.com/github/snapdotNG/HxroPythonAPI/blob/main/HxroAPI.ipynb\" target=\"_parent\"><img src=\"https://colab.research.google.com/assets/colab-badge.svg\" alt=\"Open In Colab\"/></a>"
      ]
    },
    {
      "cell_type": "markdown",
      "metadata": {
        "id": "4lK_imd_5HC3"
      },
      "source": [
        "# **Check Balance With Last 10 Transactions**"
      ]
    },
    {
      "cell_type": "code",
      "execution_count": null,
      "metadata": {
        "colab": {
          "base_uri": "https://localhost:8080/"
        },
        "id": "-4jGs7TLq7cb",
        "outputId": "fcc4bfe7-75f4-48f9-bc61-97889a3a4906"
      },
      "outputs": [
        {
          "output_type": "stream",
          "name": "stdout",
          "text": [
            "Description:  + Moon Rekt Contest 30a22937 winnings. \n",
            "Amount: 1.93390382747865 Payout\n",
            "Balance: 55.773903827478655\n",
            "Transaction Date: 2022-06-24 | Time:05:30:11.88923800:00\n",
            "Transaction Candle Time: 31 Minute Candle\n",
            "=======================================================\n",
            "Description:  + Contest entry for contest 30a22937 on Moon \n",
            "Amount: -1.0 Payment\n",
            "Balance: 55.773903827478655\n",
            "Transaction Date: 2022-06-24 | Time:05:21:24.481726800:00\n",
            "Transaction Candle Time: 22 Minute Candle\n",
            "=======================================================\n",
            "Description:  + Contest entry for contest dde62d36 on Moon \n",
            "Amount: -1.0 Payment\n",
            "Balance: 55.773903827478655\n",
            "Transaction Date: 2022-06-22 | Time:15:48:27.792468200:00\n",
            "Transaction Candle Time: 49 Minute Candle\n",
            "=======================================================\n",
            "Description:  + Player USDC Deposit \n",
            "Amount: 55.84 Deposit\n",
            "Balance: 55.773903827478655\n",
            "Transaction Date: 2022-06-22 | Time:14:50:09.392980700:00\n",
            "Transaction Candle Time: 51 Minute Candle\n",
            "=======================================================\n",
            "Description:  +  \n",
            "Amount: -0.0062916 Withdrawal\n",
            "Balance: 8.239587265777837e-08\n",
            "Transaction Date: 2022-06-21 | Time:16:15:06.894496300:00\n",
            "Transaction Candle Time: 16 Minute Candle\n",
            "=======================================================\n",
            "Description:  +  \n",
            "Amount: -43.902 Withdrawal\n",
            "Balance: 0.0002465139493068591\n",
            "Transaction Date: 2022-06-21 | Time:16:10:06.816515900:00\n",
            "Transaction Candle Time: 11 Minute Candle\n",
            "=======================================================\n",
            "Description:  + Moon Rekt Contest f509a688 winnings. \n",
            "Amount: 1.86952227662993 Payout\n",
            "Balance: 0.0002465139493068591\n",
            "Transaction Date: 2022-05-20 | Time:17:57:08.335670300:00\n",
            "Transaction Candle Time: 58 Minute Candle\n",
            "=======================================================\n",
            "Description:  + Contest entry for contest f509a688 on Rekt \n",
            "Amount: -1.0 Payment\n",
            "Balance: 0.0002465139493068591\n",
            "Transaction Date: 2022-05-20 | Time:17:55:57.225738300:00\n",
            "Transaction Candle Time: 56 Minute Candle\n",
            "=======================================================\n",
            "Description:  + Moon Rekt Contest f06292d9 winnings. \n",
            "Amount: 1.8935177397943 Payout\n",
            "Balance: 0.0002465139493068591\n",
            "Transaction Date: 2022-05-20 | Time:17:55:08.620033700:00\n",
            "Transaction Candle Time: 56 Minute Candle\n",
            "=======================================================\n",
            "Description:  + Contest entry for contest 7d23f519 on Moon \n",
            "Amount: -1.0 Payment\n",
            "Balance: 0.0002465139493068591\n",
            "Transaction Date: 2022-05-20 | Time:17:54:57.69167400:00\n",
            "Transaction Candle Time: 55 Minute Candle\n",
            "=======================================================\n",
            "Transaction Time Complete: 2022-06-24 05:31:03.124979/n estimated win rate for the last 10 transactions is 3%\n"
          ]
        }
      ],
      "source": [
        "# Check balance\n",
        "#Imports\n",
        "import requests\n",
        "import json\n",
        "from datetime import datetime, timedelta, date\n",
        "from pprint import pprint\n",
        "\n",
        "subscriptionKey = \"Put_Your_Api_Key_Here\"\n",
        "url = \"https://identity.hxro.io/api/Transactions\"\n",
        "\n",
        "querystring = {\"takeTop\":\"10\",\"subscription-key\":subscriptionKey}\n",
        "\n",
        "\n",
        "headers = {\n",
        "    \"Accept\": \"text/plain\",\n",
        "    \"Ocp-Apim-Subscription-Key\": subscriptionKey\n",
        "}\n",
        "\n",
        "responser = requests.request(\"GET\", url, headers=headers, params=querystring)\n",
        "\n",
        "#pprint(responser.json())\n",
        "\n",
        "action = \"balance\"  #@param ['balance', 'order', 'checkBalance', 'printHello']\n",
        "\n",
        "\n",
        "\n",
        "def balance():\n",
        "  a = 0\n",
        "  b = 0\n",
        "  c= 0\n",
        "  while a <= 9:\n",
        "    descriptiona = responser.json()\n",
        "    descriptiona = responser.json()[a]['description']\n",
        "    \n",
        "    amount = responser.json()[a]['amount']\n",
        "    transaction = responser.json()[a]['transactionType']\n",
        "    balance = responser.json()[a]['account']['balance']\n",
        "    timeOrder = responser.json()[a]['transactionDate']\n",
        "    timeOrder = str(timeOrder.replace(\"T\",\" | Time:\"))\n",
        "    timeOrder = str(timeOrder.replace(\"+\",\"\"))\n",
        "    candleTime = (responser.json()[a]['transactionDate']).split(\":\")[1]\n",
        "    candleTime = int(candleTime) + 1\n",
        "\n",
        "    print(f\"Description:  + {descriptiona} \")\n",
        "    print(\"Amount: \" + str(amount)+ \" \" + transaction)\n",
        "    print(\"Balance: \" + str(balance))\n",
        "    print(\"Transaction Date: \" + str(timeOrder))\n",
        "    print(f'Transaction Candle Time: {candleTime} Minute Candle' )\n",
        "    print(\"=======================================================\")\n",
        "    \n",
        "    if \"winnings\" in descriptiona:\n",
        "      b=b+1\n",
        "    else:\n",
        "      c = c+1\n",
        "    \n",
        "    a += 1\n",
        "  print(f'Transaction Time Complete: {str(datetime.now())}/n estimated win rate for the last {a} transactions is {b}%')\n",
        "    \n",
        "\n",
        "\n",
        "def order():\n",
        "  print(\"order\")\n",
        "\n",
        "def printHello():\n",
        "  print(action)\n",
        "\n",
        "globals()[action]()"
      ]
    },
    {
      "cell_type": "markdown",
      "metadata": {
        "id": "6vQw0H013628"
      },
      "source": [
        "# **This is where Order is sent BTC 1 Min Moon**"
      ]
    },
    {
      "cell_type": "code",
      "execution_count": null,
      "metadata": {
        "id": "fRSKr23XUINM",
        "colab": {
          "base_uri": "https://localhost:8080/"
        },
        "outputId": "0b092e4d-25ee-4adc-aad1-e6431caa3480"
      },
      "outputs": [
        {
          "output_type": "stream",
          "name": "stdout",
          "text": [
            "Series ID is: 5340f727-dd46-4405-b6a8-6eb3e9a720ff\n",
            "{'accountBalanceUpdates': [{'id': 621588, 'balance': 53.84, 'modifiedDate': '2022-06-24T05:21:25.0766667+00:00'}], 'contestEntry': {'overUnderDirection': 'Moon', 'wager': 1.0, 'payout': 0.0, 'contestType': 'OverUnder', 'id': '38b78651-34dc-4d60-be16-479ae12aed7a', 'status': 'Paid', 'enteredContest': '2022-06-24T05:21:24.4817268+00:00', 'contestId': '30a22937-70e1-46ed-81b1-398859e587ff', 'userId': '40925db3-8c7c-47a9-b217-25b43e892995', 'username': 'angelsterritory'}}\n",
            " Status:  <Response [200]> Direction: moon Amount: 1 Trade ID: 30a22937-70e1-46ed-81b1-398859e587ff\n"
          ]
        }
      ],
      "source": [
        "#@title Quick Order send\n",
        "#Extracting Live Contest Types assests with USDT, note it is kinda fixed\n",
        "#Sorting ones containing BTCUSDT Tradables\n",
        "\n",
        "#order = \"balance\" #@param ['order', 'balance', 'checkBalance']\n",
        "subscriptionKey = \"13a5b7ca8a984c7fb88d9fe7c50e2b31\"\n",
        "\n",
        "url = \"http://api.hxro.io/hxroapi/api/ContestSeries/running\"\n",
        "\n",
        "querystring = {\"subscription-key\":subscriptionKey}\n",
        "\n",
        "headers = {\n",
        "    \"Accept\": \"text/plain\",\n",
        "    \"Ocp-Apim-Subscription-Key\": subscriptionKey\n",
        "}\n",
        "\n",
        "response = requests.request(\"GET\", url, headers=headers, params=querystring)\n",
        "\n",
        "instrument = \"BTC/USD\" #@param [\"BTC/USD\", \"ETH/USD\", \"BNB/USDT\", \".xGOLD\"]\n",
        "contestDuration = \"00:05:00\" #@param [\"00:01:00\", \"00:05:00\", \"00:15:00\", \"01:00:00\"]\n",
        "direction = \"moon\" #@param [\"moon\",\"rekt\"]\n",
        "wager = 1 #@param {type:\"slider\", min:1, max:10, step:1}\n",
        "\n",
        "\n",
        "\n",
        "#def btc1fresh():\n",
        "for i in response.json():\n",
        "  if ((i['assetType']) == \"USDC\") and ((i['name']) == instrument ) and ((i['contestDuration']) == contestDuration) :\n",
        "    conId = i['id']\n",
        "    print(\"Series ID is: \" + conId)\n",
        "\n",
        "\n",
        "url = \"http://api.hxro.io/hxroapi/api/Contests/by-series/\"+conId\n",
        "\n",
        "\n",
        "response = requests.request(\"GET\", url, headers=headers, params=querystring)\n",
        "\n",
        "#print(response.json())\n",
        "for i in response.json():\n",
        "  if ((i[\"status\"]) == \"Opened\") :\n",
        "    newestconId = i['id']\n",
        "    #print(\"latest ID is: \" + newestconId)\n",
        "tradeReadyID = (response.json()[3]['id'])\n",
        "\n",
        "#direction = \"rekt\" \n",
        "#wager = \"1\"  \n",
        "#print(\"Contest ID: \", tradeReadyID)\n",
        "\n",
        "# Sending in trades whuch adds the user to the contest with contest ID obtained from series\n",
        "\n",
        "\n",
        "url = \"http://api.hxro.io/hxroapi/api/ContestEntry/add-contest-entry\"\n",
        "\n",
        "\n",
        "payload = {\n",
        "  \"contestId\": tradeReadyID,\n",
        "  \"userId\": \"40925db3-8c7c-47a9-b217-25b43e892995\",\n",
        "  \"contesttype\": \"OverUnder\",\n",
        "  \"direction\": direction ,\n",
        "  \"wager\": wager\n",
        "}\n",
        "headers = {\n",
        "    \"Accept\": \"text/plain\",\n",
        "    \"Content-Type\": \"application/*+json\",\n",
        "    \"Ocp-Apim-Subscription-Key\": subscriptionKey\n",
        "\n",
        "}\n",
        "# contestType = \"OverUnder\", direction = \"moon\", wager =  \"10\"\n",
        "#response = requests.request(\"POST\", url, data=payload, headers=headers, params=querystring)\n",
        "#response = requests.post(url, data=payload, headers=headers, params=querystring )\n",
        "response = requests.post(url, json = payload, headers=headers, params=querystring )\n",
        "\n",
        "\n",
        "print(response.json())\n",
        "print (f' Status:  {str(response)} Direction: {direction} Amount: {wager} Trade ID: {tradeReadyID}')"
      ]
    },
    {
      "cell_type": "markdown",
      "metadata": {
        "id": "PEqGe1Kv40-a"
      },
      "source": [
        "**Remove last order**"
      ]
    },
    {
      "cell_type": "markdown",
      "metadata": {
        "id": "fqM0o0jcMw-p"
      },
      "source": [
        "# **This is where to remove last order**"
      ]
    },
    {
      "cell_type": "code",
      "execution_count": null,
      "metadata": {
        "colab": {
          "base_uri": "https://localhost:8080/"
        },
        "id": "h1etqhibUBr-",
        "outputId": "72a7628e-621b-43ee-b2b1-ac9a68fe6f48"
      },
      "outputs": [
        {
          "output_type": "stream",
          "name": "stdout",
          "text": [
            "New Balance: 156.222152129085\n",
            "Modified On:  2022-03-31T10:40:16.4466667+00:00\n",
            "<Response [200]>\n"
          ]
        }
      ],
      "source": [
        "\n",
        "#Removes the user from the contest and refunds their account for their entry fee, this will not work if the contest has already gone live\n",
        "\n",
        "def remove():\n",
        "  url = \"http://api.hxro.io/hxroapi/api/ContestEntry/remove-contest-entry\"\n",
        "\n",
        "  querystring = {\"subscription-key\":subscriptionKey}\n",
        "\n",
        "\n",
        "  #contestId = \"2abd78a3-ee64-4ebc-b953-c30a9f99f421\\   \"{\\\"contestId\\\":\\\"2abd78a3-ee64-4ebc-b953-c30a9f99f421\\\"},{\\\"contestType\\\":\\\"OverUnder\\\"},{\\\"direction\\\":\\\"moon\\\"},{\\\"wager\\\":\\10\\\"}\"\"\n",
        "  payload = {\n",
        "    \"contestId\": tradeReadyID,\n",
        "    \"userId\": \"40925db3-8c7c-47a9-b217-25b43e892995\",\n",
        "    \"contesttype\": \"OverUnder\",\n",
        "    \"direction\": \"moon\",\n",
        "    \"wager\": \"10\"\n",
        "  }\n",
        "  headers = {\n",
        "      \"Accept\": \"text/plain\",\n",
        "      \"Content-Type\": \"application/*+json\",\n",
        "      \"Ocp-Apim-Subscription-Key\": subscriptionKey\n",
        "\n",
        "  }\n",
        "  # contestType = \"OverUnder\", direction = \"moon\", wager =  \"10\"\n",
        "  #response = requests.request(\"POST\", url, data=payload, headers=headers, params=querystring)\n",
        "  #response = requests.post(url, data=payload, headers=headers, params=querystring )\n",
        "  response = requests.post(url, json = payload, headers=headers, params=querystring )\n",
        "  r = (response.json())\n",
        "  rBalance = r['accountBalanceUpdates'][0]['balance']\n",
        "  modDate = r['accountBalanceUpdates'][0]['modifiedDate']\n",
        "  print(f'New Balance: {rBalance}')\n",
        "  print(f'Modified On:  {modDate}')\n",
        "  print(response)\n",
        "\n",
        "\n",
        "remove()"
      ]
    }
  ],
  "metadata": {
    "colab": {
      "collapsed_sections": [],
      "name": "HxroAPI.ipynb",
      "provenance": [],
      "authorship_tag": "ABX9TyOghcXPG8q7FJdV3+FYAW/0",
      "include_colab_link": true
    },
    "kernelspec": {
      "display_name": "Python 3",
      "name": "python3"
    },
    "language_info": {
      "name": "python"
    }
  },
  "nbformat": 4,
  "nbformat_minor": 0
}